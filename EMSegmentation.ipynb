{
 "cells": [
  {
   "cell_type": "markdown",
   "metadata": {
    "deletable": false,
    "editable": false,
    "nbgrader": {
     "cell_type": "markdown",
     "checksum": "0a093f4f7cf3fd018bce4c7796e847cc",
     "grade": false,
     "grade_id": "cell-b874112831937c2e",
     "locked": true,
     "schema_version": 3,
     "solution": false,
     "task": false
    }
   },
   "source": [
    "*Note*: You need to submit the assignment to be graded, and passing the validation button's test does not grade the assignment. The validation button's functionality is exactly the same as running all cells.\n",
    "\n",
    "*If you plan to run the assignment locally:*\n",
    "You can download the assignments and run them locally, but please be aware that as much as we would like our code to be universal, computer platform differences may lead to incorrectly reported errors even on correct solutions. Therefore, we encourage you to validate your solution in Coursera whenever this may be happening. If you decide to run the assignment locally, please: \n",
    "   1. Try to download the necessary data files from your home directory one at a time,\n",
    "   2. Don't update anything other than this Jupyter notebook back to Coursera's servers, and \n",
    "   3. Make sure this notebook maintains its original name after you upload it back to Coursera."
   ]
  },
  {
   "cell_type": "code",
   "execution_count": 4,
   "metadata": {
    "deletable": false,
    "editable": false,
    "nbgrader": {
     "cell_type": "code",
     "checksum": "826e8cedd9bd181587fb0581fa6a8dc1",
     "grade": false,
     "grade_id": "cell-0c0c9e4cc9507309",
     "locked": true,
     "schema_version": 3,
     "solution": false,
     "task": false
    }
   },
   "outputs": [],
   "source": [
    "%matplotlib inline\n",
    "%load_ext autoreload\n",
    "%autoreload 2\n",
    "\n",
    "import matplotlib.pyplot as plt\n",
    "import numpy as np\n",
    "import seaborn as sns\n",
    "import pandas as pd\n",
    "\n",
    "from skimage import io\n",
    "\n",
    "from scipy.special import logsumexp\n",
    "from sklearn.cluster import KMeans\n",
    "\n",
    "import PIL.Image\n",
    "import IPython.display\n",
    "\n",
    "from aml_utils import test_case_checker, perform_computation"
   ]
  },
  {
   "cell_type": "markdown",
   "metadata": {
    "deletable": false,
    "editable": false,
    "nbgrader": {
     "cell_type": "markdown",
     "checksum": "229a53d6a2a70d36ce87309dd8f72452",
     "grade": false,
     "grade_id": "cell-b02d70299327c1b6",
     "locked": true,
     "schema_version": 3,
     "solution": false,
     "task": false
    }
   },
   "source": [
    "# *Assignment Summary"
   ]
  },
  {
   "cell_type": "markdown",
   "metadata": {
    "deletable": false,
    "editable": false,
    "nbgrader": {
     "cell_type": "markdown",
     "checksum": "9aa5665e10046c76d6224babea6923b9",
     "grade": false,
     "grade_id": "cell-67778014f78e6da8",
     "locked": true,
     "schema_version": 3,
     "solution": false,
     "task": false
    }
   },
   "source": [
    "**Image segmentation using EM**: You can segment an image using a clustering method - each segment is the cluster center to which a pixel belongs. In this exercise, you will represent an image pixel by its r, g, and b values (so use color images!). Apply the EM algorithm to the mixture of normal distributions model (also called Gaussian Mixture Model or GMM) to cluster image pixels, then segment the image by mapping each pixel to the cluster center with the highest value of the posterior probability for that pixel. Rather than using a package, you will implement the EM algorithm yourself. You will display results for the three included images, although you can use any color image you want.\n",
    "\n",
    "* Segment each of the test images to 10, 20, and 50 segments. You should display these segmented images as images, where each pixel's color is replaced with the mean color of the closest segment.\n",
    "\n",
    "* We will identify one special test image. You should segment this to 20 segments using five different start points, and display the result for each case. Is there much variation in the result? The test image is the sunset image"
   ]
  },
  {
   "cell_type": "markdown",
   "metadata": {
    "deletable": false,
    "editable": false,
    "nbgrader": {
     "cell_type": "markdown",
     "checksum": "93d1cbb3e90a4b4bdee48c74f093bf1c",
     "grade": false,
     "grade_id": "cell-009cd716a987fca2",
     "locked": true,
     "schema_version": 3,
     "solution": false,
     "task": false
    }
   },
   "source": [
    "# *EM for Mixture of Normals in Matrix Form"
   ]
  },
  {
   "cell_type": "markdown",
   "metadata": {},
   "source": [
    "For you convenience, we bring the reading assignment file here so that you can use it.\n",
    "\n",
    "<font color='red'> **Caution** </font> Depending on your browser, you might need to right click on this pdf document to see the display options."
   ]
  },
  {
   "cell_type": "code",
   "execution_count": 5,
   "metadata": {
    "deletable": false,
    "editable": false,
    "nbgrader": {
     "cell_type": "code",
     "checksum": "717e17ecffb96ac71bcf0d261ab53353",
     "grade": false,
     "grade_id": "cell-fe20b6c10165f7d4",
     "locked": true,
     "schema_version": 3,
     "solution": false,
     "task": false
    }
   },
   "outputs": [
    {
     "data": {
      "text/html": [
       "\n",
       "        <iframe\n",
       "            width=\"1000\"\n",
       "            height=\"800\"\n",
       "            src=\"../EMSegmentation-lib/EMSegmentation.pdf\"\n",
       "            frameborder=\"0\"\n",
       "            allowfullscreen\n",
       "        ></iframe>\n",
       "        "
      ],
      "text/plain": [
       "<IPython.lib.display.IFrame at 0x7f4a942bb190>"
      ]
     },
     "execution_count": 5,
     "metadata": {},
     "output_type": "execute_result"
    }
   ],
   "source": [
    "from IPython.display import IFrame\n",
    "IFrame(\"../EMSegmentation-lib/EMSegmentation.pdf\", width=1000, height=800)    "
   ]
  },
  {
   "cell_type": "markdown",
   "metadata": {
    "deletable": false,
    "editable": false,
    "nbgrader": {
     "cell_type": "markdown",
     "checksum": "2cf8250a21fe8ecf91c3de37ba35527a",
     "grade": false,
     "grade_id": "cell-84b37fa64ec77b55",
     "locked": true,
     "schema_version": 3,
     "solution": false,
     "task": false
    }
   },
   "source": [
    "# 1. Implementing the Gaussian Mixture Model"
   ]
  },
  {
   "cell_type": "markdown",
   "metadata": {
    "deletable": false,
    "editable": false,
    "nbgrader": {
     "cell_type": "markdown",
     "checksum": "262deb3c312281f5aa95404616dfcdf7",
     "grade": false,
     "grade_id": "cell-b394cf82fc5ac272",
     "locked": true,
     "schema_version": 3,
     "solution": false,
     "task": false
    }
   },
   "source": [
    "## 1.1 The Expectation Step"
   ]
  },
  {
   "cell_type": "markdown",
   "metadata": {
    "deletable": false,
    "editable": false,
    "nbgrader": {
     "cell_type": "markdown",
     "checksum": "5d1cc93046783086cdd35619b65e788c",
     "grade": false,
     "grade_id": "cell-11e711adc06d7138",
     "locked": true,
     "schema_version": 3,
     "solution": false,
     "task": false
    }
   },
   "source": [
    "# <span style=\"color:blue\">Task 1</span>"
   ]
  },
  {
   "cell_type": "markdown",
   "metadata": {
    "deletable": false,
    "editable": false,
    "nbgrader": {
     "cell_type": "markdown",
     "checksum": "754a38e75e56d9a70330efee67eac17d",
     "grade": false,
     "grade_id": "cell-639cca78de2707fd",
     "locked": true,
     "schema_version": 3,
     "solution": false,
     "task": false
    }
   },
   "source": [
    "Write a function `find_H` that calculates the \n",
    "\n",
    "$$H_{i,j} := -\\frac{1}{2} \\bigg[ (\\mathbf{x}_i-\\mathbf{\\mu}_j)^T(\\mathbf{x}_i-\\mathbf{\\mu}_j) \\bigg]$$\n",
    "\n",
    "matrix, and takes the following arguments as input:\n",
    "\n",
    "1. `X`: A numpy array of the shape `(N,d)` where `N` is the number of pixels in the image (i.e., number of data points in this problem) and `d` is the number of fundamental pixel colors (i.e., dimension of the data space in this problem). \n",
    "  * Do not assume anything about `N` or `d` other than being positive integers.\n",
    "  * Do not assume anything about `X`'s range of values or data type. \n",
    "  \n",
    "  `X` is equivalent to the data matrix $X$ in the review document above.\n",
    "\n",
    "2. `mu`: A numpy array of the shape `(K,d)` where `K` is the target number of clusters for clustering and `d` is the number of colors (i.e., dimension of the data space in this problem). Again, do not assume anything about `K` other than being a positive integer. This variable is equivalent to the means matrix $\\mu$ in the review document above.\n",
    "\n",
    "Your function should return the numpy array `H` with the shape of `(N, K)` and `np.float64` data type.\n",
    "\n",
    "**Important Note**: Try and avoid using loops for constructing this pairwise distance matrix. You can find detailed explanation on how to efficiently compute $H$ in the document above."
   ]
  },
  {
   "cell_type": "code",
   "execution_count": 6,
   "metadata": {
    "deletable": false
   },
   "outputs": [],
   "source": [
    "def find_H(X, mu):\n",
    "    \"\"\"\n",
    "    Calculate the matrix H_ij for the E-step.\n",
    "\n",
    "    Parameters:\n",
    "            X (np.array):  A numpy array of the shape (N,d) where N is the number of pixels in the image \n",
    "            (i.e., number of data points in this problem) \n",
    "            and d is the number of fundamental pixel colors (i.e., dimension of the data space in this problem). \n",
    "            \n",
    "            mu (np.array): A numpy array of the shape (K,d) where K is the target number of clusters for clustering \n",
    "            and d is the number of colors (i.e., dimension of the data space in this problem).\n",
    "\n",
    "    Returns:\n",
    "            H (np.array): H_ij matrix for E-step with shape of (N, K) and np.float64 data type.\n",
    "    \"\"\"\n",
    "    N = X.shape[0]\n",
    "    K = mu.shape[0]\n",
    "    assert X.shape[1] == mu.shape[1]\n",
    "    K, d = mu.shape\n",
    "    \n",
    "    \n",
    "    # your code here\n",
    "#     raise NotImplementedError\n",
    "#     print(N) #7\n",
    "#     print(K) #5\n",
    "#     print(X.shape)#(7, 5)\n",
    "#     print((X*X).shape)#(7, 5)\n",
    "#     print((mu.shape[1], mu.shape[0]))#(5, 3)\n",
    "#     print(((X * X) @ np.ones((mu.shape[1], mu.shape[0]))).shape)#(7, 3)\n",
    "    H = -0.5 * ((X * X) @ np.ones((d, K)) + np.ones((N, d)) @ (mu * mu).T - 2 * X @ mu.T)\n",
    "    \n",
    "    assert H.shape == (N,K)\n",
    "    assert H.dtype == np.float64\n",
    "    return H"
   ]
  },
  {
   "cell_type": "code",
   "execution_count": 7,
   "metadata": {
    "deletable": false,
    "editable": false,
    "nbgrader": {
     "cell_type": "code",
     "checksum": "83ac83a47f82bb1fcac2b70d8e2e3349",
     "grade": false,
     "grade_id": "cell-778797822de682fc",
     "locked": true,
     "schema_version": 3,
     "solution": false,
     "task": false
    }
   },
   "outputs": [],
   "source": [
    "some_X = np.array([[ 0,  1, 12,  3,  4],\n",
    "                   [ 5, 16,  7,  8,  9],\n",
    "                   [ 0, 11, 12, 13,  4],\n",
    "                   [15, 16, 17,  8, 19],\n",
    "                   [ 0,  1, 12,  3,  4],\n",
    "                   [ 5, 16,  7,  8, 13],\n",
    "                   [ 4, 15,  0,  5,  0]])\n",
    "\n",
    "some_mu = np.array([[ 0,  1, 18, 15,  5],\n",
    "                    [13,  9, 23,  3, 22],\n",
    "                    [ 2, 10, 17,  4,  8]])\n",
    "\n",
    "assert np.array_equal(find_H(some_X, some_mu), np.array([[ -90.5, -339. ,  -63.5],\n",
    "                                                         [-218. , -281.5,  -81. ],\n",
    "                                                         [ -70.5, -359. ,  -63.5],\n",
    "                                                         [-348. ,  -61.5, -171. ],\n",
    "                                                         [ -90.5, -339. ,  -63.5],\n",
    "                                                         [-242. , -237.5,  -93. ],\n",
    "                                                         [-330.5, -567. , -191.5]]))"
   ]
  },
  {
   "cell_type": "code",
   "execution_count": 8,
   "metadata": {
    "deletable": false,
    "editable": false,
    "nbgrader": {
     "cell_type": "code",
     "checksum": "62a09672f30bc7c116cbd489bf0346f3",
     "grade": true,
     "grade_id": "cell-36c3bd95c0813154",
     "locked": true,
     "points": 1,
     "schema_version": 3,
     "solution": false,
     "task": false
    }
   },
   "outputs": [],
   "source": [
    "# Following are a bunch of hints to make your life easier duing debugging if you failed the pre-computed tests.\n",
    "#\n",
    "#   When an error is raised in checking against the pre-computed test database:\n",
    "#\n",
    "#     0. test_results will be a python dictionary, with the bug information stored in it. Don't be afraid to look into it!\n",
    "#\n",
    "#     1. You can access the failed test arguments by reading test_results['test_kwargs']. test_results['test_kwargs'] will be\n",
    "#        another python dictionary with its keys being the argument names and the values being the argument values.\n",
    "#\n",
    "#     2. test_results['correct_sol'] will contain the correct solution.\n",
    "#\n",
    "#     3. test_results['stu_sol'] will contain your implementation's returned solution.\n",
    "\n"
   ]
  },
  {
   "cell_type": "code",
   "execution_count": 9,
   "metadata": {
    "deletable": false,
    "editable": false,
    "nbgrader": {
     "cell_type": "code",
     "checksum": "afaee5e78e673df900daf1381dade54b",
     "grade": false,
     "grade_id": "cell-f0716d9e5fa6a345",
     "locked": true,
     "schema_version": 3,
     "solution": false,
     "task": false
    }
   },
   "outputs": [],
   "source": [
    "# Checking against the pre-computed test database\n",
    "test_results = test_case_checker(find_H, task_id=1)\n",
    "assert test_results['passed'], test_results['message']"
   ]
  },
  {
   "cell_type": "markdown",
   "metadata": {
    "deletable": false,
    "editable": false,
    "nbgrader": {
     "cell_type": "markdown",
     "checksum": "55e3ce9d98e5244ba735b33c23e470cd",
     "grade": false,
     "grade_id": "cell-9c5352898319b55a",
     "locked": true,
     "schema_version": 3,
     "solution": false,
     "task": false
    }
   },
   "source": [
    "# <span style=\"color:blue\">Task 2</span>"
   ]
  },
  {
   "cell_type": "markdown",
   "metadata": {
    "deletable": false,
    "editable": false,
    "nbgrader": {
     "cell_type": "markdown",
     "checksum": "f55867cd3a10e71eeb6bcbf0bcdf75ae",
     "grade": false,
     "grade_id": "cell-36ae2ea55fa27a53",
     "locked": true,
     "schema_version": 3,
     "solution": false,
     "task": false
    }
   },
   "source": [
    "Write a function `find_logW` that calculates the $\\log W_{i,j}$ matrix, and takes the following arguments as input:\n",
    "\n",
    "1. `H`: A numpy array of the shape `(N,K)` where `N` is the number of pixels in the image and `K` is the number of clusters. This is the supposed output of the `find_H` function you wrote, and is equivalent to the matrix $H$ in the review document above.\n",
    "  * Do not assume anything about `N` or `K` other than being positive integers. \n",
    "2. `log_pi`: A numpy array of the shape `(K,1)` where `K` is the number of clusters. This variable is equivalent to the element-wise natural log of the prior probabilities vector $\\pi$ in the review document above.\n",
    "\n",
    "Your function should return the numpy array `logW` with the shape of `(N, K)` whose $i^{th}$ row and $j^{th}$ column should be\n",
    "\n",
    "$$\\log W_{i,j} := \\log\\bigg(\\frac{\\pi_j \\exp\\bigg(-\\frac{1}{2} \\bigg[ (\\mathbf{x}_i-\\mathbf{\\mu}_j)^T(\\mathbf{x}_i-\\mathbf{\\mu}_j) \\bigg]\\bigg)}{\\sum_{l=1}^{K} \\pi_l \\exp\\bigg(-\\frac{1}{2} \\bigg[ (\\mathbf{x}_i-\\mathbf{\\mu}_l)^T(\\mathbf{x}_i-\\mathbf{\\mu}_l) \\bigg]\\bigg)}\\bigg)$$\n",
    "\n",
    "**Important Note**: You **should** use the `logsumexp` function imported above from scipy's library to make sure that numerical stability would not be a problem. In other words, don't try and exponentiate the vector `log_pi` to obtain the $\\pi$ vector; this will result in numerical instability. "
   ]
  },
  {
   "cell_type": "code",
   "execution_count": 10,
   "metadata": {
    "deletable": false
   },
   "outputs": [],
   "source": [
    "def find_logW(H, log_pi):\n",
    "    \"\"\"\n",
    "    Calculate the logW_ij matrix for the E-step.\n",
    "\n",
    "    Parameters:\n",
    "            H (np.array):  A numpy array of the shape (N,K) \n",
    "            where N is the number of pixels in the image and K is the number of clusters. \n",
    "            \n",
    "            log_pi (np.array): A numpy array of the shape (K,1) where K is the number of clusters.\n",
    "\n",
    "    Returns:\n",
    "            logW (np.array): lowW_ij matrix for the E-step with shape of (N, K).\n",
    "    \"\"\"\n",
    "    \n",
    "    N, K = H.shape\n",
    "    \n",
    "    # your code here\n",
    "#     raise NotImplementedError\n",
    "\n",
    "    log_up = np.ones((N,1)) @ log_pi.T + H\n",
    "    log_down = logsumexp(log_up,axis=1, keepdims=True)\n",
    "    logW = log_up - log_down\n",
    "    \n",
    "    assert logW.shape == (N,K)\n",
    "    assert not np.isnan(logW).any()\n",
    "    assert not np.isinf(logW).any()\n",
    "    return logW"
   ]
  },
  {
   "cell_type": "code",
   "execution_count": 11,
   "metadata": {
    "deletable": false,
    "editable": false,
    "nbgrader": {
     "cell_type": "code",
     "checksum": "c1f0b20d9074f154f0112a74c7475e49",
     "grade": false,
     "grade_id": "cell-be1aea5cec4b49a5",
     "locked": true,
     "schema_version": 3,
     "solution": false,
     "task": false
    }
   },
   "outputs": [],
   "source": [
    "some_X = np.array([[ 0,  1, 12,  3,  4],\n",
    "                   [ 5, 16,  7,  8,  9],\n",
    "                   [ 0, 11, 12, 13,  4],\n",
    "                   [15, 16, 17,  8, 19],\n",
    "                   [ 0,  1, 12,  3,  4],\n",
    "                   [ 5, 16,  7,  8, 13],\n",
    "                   [ 4, 15,  0,  5,  0]])\n",
    "\n",
    "some_mu = np.array([[ 0,  1, 18, 15,  5],\n",
    "                    [13,  9, 23,  3, 22],\n",
    "                    [ 2, 10, 17,  4,  8]])\n",
    "\n",
    "some_H = np.array([[ -90.5, -339. ,  -63.5],\n",
    "                   [-218. , -281.5,  -81. ],\n",
    "                   [ -70.5, -359. ,  -63.5],\n",
    "                   [-348. ,  -61.5, -171. ],\n",
    "                   [ -90.5, -339. ,  -63.5],\n",
    "                   [-242. , -237.5,  -93. ],\n",
    "                   [-330.5, -567. , -191.5]])\n",
    "\n",
    "some_log_pi = np.log(some_mu.sum(axis=1)/some_mu.sum()).reshape(-1,1)\n",
    "\n",
    "some_logW = find_logW(some_H, some_log_pi)\n",
    "\n",
    "assert np.allclose(some_logW.round(2), np.array([[ -27.05, -274.97,   -0.  ],\n",
    "                                                 [-137.05, -199.97,    0.  ],\n",
    "                                                 [  -7.05, -294.97,   -0.  ],\n",
    "                                                 [-287.08,    0.  , -110.03],\n",
    "                                                 [ -27.05, -274.97,   -0.  ],\n",
    "                                                 [-149.05, -143.97,    0.  ],\n",
    "                                                 [-139.05, -374.97,    0.  ]]))"
   ]
  },
  {
   "cell_type": "code",
   "execution_count": 12,
   "metadata": {
    "deletable": false,
    "editable": false,
    "nbgrader": {
     "cell_type": "code",
     "checksum": "943dda37088c0a64e9feab525ab36fe4",
     "grade": true,
     "grade_id": "cell-2cc1ca4b8728829f",
     "locked": true,
     "points": 1,
     "schema_version": 3,
     "solution": false,
     "task": false
    }
   },
   "outputs": [],
   "source": [
    "# Following are a bunch of hints to make your life easier duing debugging if you failed the pre-computed tests.\n",
    "#\n",
    "#   When an error is raised in checking against the pre-computed test database:\n",
    "#\n",
    "#     0. test_results will be a python dictionary, with the bug information stored in it. Don't be afraid to look into it!\n",
    "#\n",
    "#     1. You can access the failed test arguments by reading test_results['test_kwargs']. test_results['test_kwargs'] will be\n",
    "#        another python dictionary with its keys being the argument names and the values being the argument values.\n",
    "#\n",
    "#     2. test_results['correct_sol'] will contain the correct solution.\n",
    "#\n",
    "#     3. test_results['stu_sol'] will contain your implementation's returned solution.\n",
    "\n"
   ]
  },
  {
   "cell_type": "code",
   "execution_count": 13,
   "metadata": {
    "deletable": false,
    "editable": false,
    "nbgrader": {
     "cell_type": "code",
     "checksum": "680b29bd69c5c76d0f153f52987b6746",
     "grade": false,
     "grade_id": "cell-2f2d019695c368a6",
     "locked": true,
     "schema_version": 3,
     "solution": false,
     "task": false
    }
   },
   "outputs": [],
   "source": [
    "# Checking against the pre-computed test database\n",
    "test_results = test_case_checker(find_logW, task_id=2)\n",
    "assert test_results['passed'], test_results['message']"
   ]
  },
  {
   "cell_type": "markdown",
   "metadata": {
    "deletable": false,
    "editable": false,
    "nbgrader": {
     "cell_type": "markdown",
     "checksum": "8cfb307a2cc4b5dea80a86c5a3ac1cb5",
     "grade": false,
     "grade_id": "cell-9d8412d54e56542c",
     "locked": true,
     "schema_version": 3,
     "solution": false,
     "task": false
    }
   },
   "source": [
    "## 1.2 The Maximization Step"
   ]
  },
  {
   "cell_type": "markdown",
   "metadata": {
    "deletable": false,
    "editable": false,
    "nbgrader": {
     "cell_type": "markdown",
     "checksum": "da2b175ab7c305c989fbc2bff7827443",
     "grade": false,
     "grade_id": "cell-01d3757f04bba66b",
     "locked": true,
     "schema_version": 3,
     "solution": false,
     "task": false
    }
   },
   "source": [
    "# <span style=\"color:blue\">Task 3</span>"
   ]
  },
  {
   "cell_type": "markdown",
   "metadata": {
    "deletable": false,
    "editable": false,
    "nbgrader": {
     "cell_type": "markdown",
     "checksum": "51fd654df37a5b328a2ec7f4472c724b",
     "grade": false,
     "grade_id": "cell-46b1362ab3fd8a1c",
     "locked": true,
     "schema_version": 3,
     "solution": false,
     "task": false
    }
   },
   "source": [
    "Write a function `update_logpi` that computes the $\\log \\pi^{\\text{new}}$ vector, and takes the following argument as input:\n",
    "\n",
    "1. `logW`: A numpy array of the shape `(N,K)` where `N` is the number of pixels in the image and `K` is the number of clusters. This is the supposed output of the `find_logW` function you wrote, and is equivalent to the matrix $\\log W$ in the review document above.\n",
    "  * Do not assume anything about `N` or `K` other than being positive integers. \n",
    "\n",
    "Your function should return the numpy array `log_pi` with the shape of `(K, 1)` whose $j^{th}$ element should be\n",
    "\n",
    "$$\\log \\pi^{\\text{new}}_{j} := \\log \\frac{\\sum_{i=1}^N W_{i,j}}{N}$$\n",
    "\n",
    "**Important Note**: You **should** use the `logsumexp` function imported above from scipy's library to make sure that numerical stability would not be a problem. In other words, don't try and exponentiate the matrix `logW` to obtain the $W$ matrix; this will result in numerical instability. \n",
    "\n",
    "**Important Note**: Try and avoid using loops for constructing this posterior. You can find detailed explanation on how to efficiently compute $\\log \\pi^{\\text{new}}$ in the document above."
   ]
  },
  {
   "cell_type": "code",
   "execution_count": 14,
   "metadata": {
    "deletable": false
   },
   "outputs": [],
   "source": [
    "def update_logpi(logW):\n",
    "    \"\"\"\n",
    "    Compute the log pi vector.\n",
    "\n",
    "    Parameters:\n",
    "            logW (np.array): A numpy array of the shape (N,K) \n",
    "            where N is the number of pixels in the image and K is the number of clusters. \n",
    "\n",
    "    Returns:\n",
    "            log_pi (np.array):  log pi vector with shape of (K, 1).\n",
    "    \"\"\"\n",
    "    \n",
    "    N,K = logW.shape\n",
    "    \n",
    "    # your code here\n",
    "#     raise NotImplementedError\n",
    "    log_pi = logsumexp(logW,axis=0, keepdims=True) - np.log(N)\n",
    "    log_pi = log_pi.reshape(K,1)\n",
    "    \n",
    "    assert log_pi.shape == (K,1)\n",
    "    assert not np.isnan(log_pi).any()\n",
    "    assert not np.isinf(log_pi).any()\n",
    "    \n",
    "    return log_pi"
   ]
  },
  {
   "cell_type": "code",
   "execution_count": 15,
   "metadata": {
    "deletable": false,
    "editable": false,
    "nbgrader": {
     "cell_type": "code",
     "checksum": "e6e8bfe86aa50711e46ec842aa40ae94",
     "grade": false,
     "grade_id": "cell-eca3cb6120ab5b33",
     "locked": true,
     "schema_version": 3,
     "solution": false,
     "task": false
    }
   },
   "outputs": [],
   "source": [
    "some_logW = np.array([[ -27.05, -274.97,   -0.  ],\n",
    "                      [-137.05, -199.97,    0.  ],\n",
    "                      [  -7.05, -294.97,   -0.  ],\n",
    "                      [-287.08,    0.  , -110.03],\n",
    "                      [ -27.05, -274.97,   -0.  ],\n",
    "                      [-149.05, -143.97,    0.  ],\n",
    "                      [-139.05, -374.97,    0.  ]])\n",
    "\n",
    "some_logpi_new = update_logpi(some_logW)\n",
    "\n",
    "assert np.array_equal(some_logpi_new.round(2), np.array([[-9.  ],\n",
    "                                                         [-1.95],\n",
    "                                                         [-0.15]]))"
   ]
  },
  {
   "cell_type": "code",
   "execution_count": 16,
   "metadata": {
    "deletable": false,
    "editable": false,
    "nbgrader": {
     "cell_type": "code",
     "checksum": "4c81af688361a22d6ba79e715d06bc87",
     "grade": true,
     "grade_id": "cell-8b17e6301c805f86",
     "locked": true,
     "points": 1,
     "schema_version": 3,
     "solution": false,
     "task": false
    }
   },
   "outputs": [],
   "source": [
    "# Following are a bunch of hints to make your life easier duing debugging if you failed the pre-computed tests.\n",
    "#\n",
    "#   When an error is raised in checking against the pre-computed test database:\n",
    "#\n",
    "#     0. test_results will be a python dictionary, with the bug information stored in it. Don't be afraid to look into it!\n",
    "#\n",
    "#     1. You can access the failed test arguments by reading test_results['test_kwargs']. test_results['test_kwargs'] will be\n",
    "#        another python dictionary with its keys being the argument names and the values being the argument values.\n",
    "#\n",
    "#     2. test_results['correct_sol'] will contain the correct solution.\n",
    "#\n",
    "#     3. test_results['stu_sol'] will contain your implementation's returned solution.\n",
    "\n"
   ]
  },
  {
   "cell_type": "code",
   "execution_count": 17,
   "metadata": {
    "deletable": false,
    "editable": false,
    "nbgrader": {
     "cell_type": "code",
     "checksum": "527d2a1af23d9b4a481222b51cd28436",
     "grade": false,
     "grade_id": "cell-3f869665e271454d",
     "locked": true,
     "schema_version": 3,
     "solution": false,
     "task": false
    }
   },
   "outputs": [],
   "source": [
    "# Checking against the pre-computed test database\n",
    "test_results = test_case_checker(update_logpi, task_id=3)\n",
    "assert test_results['passed'], test_results['message']"
   ]
  },
  {
   "cell_type": "markdown",
   "metadata": {
    "deletable": false,
    "editable": false,
    "nbgrader": {
     "cell_type": "markdown",
     "checksum": "fffba2836b5d8ac825b8470c34ec7b7d",
     "grade": false,
     "grade_id": "cell-5e938bec7a20dee5",
     "locked": true,
     "schema_version": 3,
     "solution": false,
     "task": false
    }
   },
   "source": [
    "# <span style=\"color:blue\">Task 4</span>"
   ]
  },
  {
   "cell_type": "markdown",
   "metadata": {
    "deletable": false,
    "editable": false,
    "nbgrader": {
     "cell_type": "markdown",
     "checksum": "0b02a999ad9912cddcac5a5e71fd159e",
     "grade": false,
     "grade_id": "cell-2f3ab1cef97c6bb8",
     "locked": true,
     "schema_version": 3,
     "solution": false,
     "task": false
    }
   },
   "source": [
    "Write a function `update_mu` that computes the $\\mu^{\\text{new}}$ matrix, and takes the following arguments as input:\n",
    "\n",
    "1. `X`: A numpy array of the shape `(N,d)` where `N` is the number of pixels in the image (i.e., number of data points in this problem) and `d` is the number of fundamental pixel colors (i.e., dimension of the data space in this problem). \n",
    "  * Do not assume anything about `N` or `d` other than being positive integers.\n",
    "  * Do not assume anything about `X`'s range of values or data type. \n",
    "  \n",
    "  `X` is equivalent to the data matrix $X$ in the review document above.\n",
    "2. `logW`: A numpy array of the shape `(N,K)` where `N` is the number of documents and `K` is the number of clusters. This is the supposed output of the `find_logW` function you wrote, and is equivalent to the matrix $\\log W$ in the review document above.\n",
    "  * Do not assume anything about `K` other than being a positive integer. \n",
    "\n",
    "Your function should return the numpy array `mu` with the shape of `(K, d)` whose $j^{th}$ centroid should be\n",
    "\n",
    "$$\\mathbf{\\mu}_j^{new} = \\frac{\\sum_{i=1}^N \\mathbf{x_i} W_{i,j}}{\\sum_{i=1}^N W_{i,j}}$$\n",
    "\n",
    "**Important Note**: Try and avoid using loops for constructing this posterior. You can find detailed explanation on how to efficiently compute $\\mu^{\\text{new}}$ in the document above."
   ]
  },
  {
   "cell_type": "code",
   "execution_count": 18,
   "metadata": {
    "deletable": false
   },
   "outputs": [],
   "source": [
    "def update_mu(X, logW):\n",
    "    \"\"\"\n",
    "    Compute the updated mu matrix.\n",
    "\n",
    "    Parameters:\n",
    "            X (np.array): A numpy array of the shape (N,d) \n",
    "            where N is the number of pixels in the image (i.e., number of data points in this problem) \n",
    "            and d is the number of fundamental pixel colors (i.e., dimension of the data space in this problem). \n",
    "            \n",
    "            logW (np.array): A numpy array of the shape (N,K) \n",
    "            where N is the number of documents and K is the number of clusters.\n",
    "\n",
    "    Returns:\n",
    "            mu (np.array):  mu matrix with shape of (K, d).\n",
    "    \"\"\"\n",
    "        \n",
    "    N,K = logW.shape\n",
    "    d = X.shape[1]\n",
    "    assert X.shape[0] == N\n",
    "    \n",
    "    # your code here\n",
    "#     raise NotImplementedError\n",
    "    mu =  (np.exp(logW).T @ X) /  (np.exp(logW).T @ np.ones((N, d)) )\n",
    "    \n",
    "    assert mu.shape == (K,d)\n",
    "    assert not np.isnan(mu).any()\n",
    "    assert not np.isinf(mu).any()\n",
    "    return mu"
   ]
  },
  {
   "cell_type": "code",
   "execution_count": 19,
   "metadata": {
    "deletable": false,
    "editable": false,
    "nbgrader": {
     "cell_type": "code",
     "checksum": "272da10315bbfe155667102b3e4e1d3b",
     "grade": false,
     "grade_id": "cell-1345a19883a6477c",
     "locked": true,
     "schema_version": 3,
     "solution": false,
     "task": false
    }
   },
   "outputs": [],
   "source": [
    "some_X = np.array([[ 0,  1, 12,  3,  4],\n",
    "                   [ 5, 16,  7,  8,  9],\n",
    "                   [ 0, 11, 12, 13,  4],\n",
    "                   [15, 16, 17,  8, 19],\n",
    "                   [ 0,  1, 12,  3,  4],\n",
    "                   [ 5, 16,  7,  8, 13],\n",
    "                   [ 4, 15,  0,  5,  0]])\n",
    "\n",
    "some_logW = np.array([[ -27.05, -274.97,   -0.  ],\n",
    "                      [-137.05, -199.97,    0.  ],\n",
    "                      [  -7.05, -294.97,   -0.  ],\n",
    "                      [-287.08,    0.  , -110.03],\n",
    "                      [ -27.05, -274.97,   -0.  ],\n",
    "                      [-149.05, -143.97,    0.  ],\n",
    "                      [-139.05, -374.97,    0.  ]])\n",
    "\n",
    "some_mu_new = update_mu(some_X, some_logW)\n",
    "\n",
    "assert np.array_equal(some_mu_new.round(3), np.array([[ 0.   , 11.   , 12.   , 13.   ,  4.   ],\n",
    "                                                      [15.   , 16.   , 17.   ,  8.   , 19.   ],\n",
    "                                                      [ 2.333, 10.   ,  8.333,  6.667,  5.667]]))"
   ]
  },
  {
   "cell_type": "code",
   "execution_count": 20,
   "metadata": {
    "deletable": false,
    "editable": false,
    "nbgrader": {
     "cell_type": "code",
     "checksum": "c6565e1cb654e85ea63390f3cf5a2270",
     "grade": true,
     "grade_id": "cell-3cb816ea049c0155",
     "locked": true,
     "points": 1,
     "schema_version": 3,
     "solution": false,
     "task": false
    }
   },
   "outputs": [],
   "source": [
    "# Following are a bunch of hints to make your life easier duing debugging if you failed the pre-computed tests.\n",
    "#\n",
    "#   When an error is raised in checking against the pre-computed test database:\n",
    "#\n",
    "#     0. test_results will be a python dictionary, with the bug information stored in it. Don't be afraid to look into it!\n",
    "#\n",
    "#     1. You can access the failed test arguments by reading test_results['test_kwargs']. test_results['test_kwargs'] will be\n",
    "#        another python dictionary with its keys being the argument names and the values being the argument values.\n",
    "#\n",
    "#     2. test_results['correct_sol'] will contain the correct solution.\n",
    "#\n",
    "#     3. test_results['stu_sol'] will contain your implementation's returned solution.\n",
    "\n"
   ]
  },
  {
   "cell_type": "code",
   "execution_count": 21,
   "metadata": {
    "deletable": false,
    "editable": false,
    "nbgrader": {
     "cell_type": "code",
     "checksum": "1a0c5ca1b70e9ea683c95a3a02c2bf40",
     "grade": false,
     "grade_id": "cell-c8fcc14d7c98add3",
     "locked": true,
     "schema_version": 3,
     "solution": false,
     "task": false
    }
   },
   "outputs": [],
   "source": [
    "# Checking against the pre-computed test database\n",
    "test_results = test_case_checker(update_mu, task_id=4)\n",
    "assert test_results['passed'], test_results['message']"
   ]
  },
  {
   "cell_type": "markdown",
   "metadata": {
    "deletable": false,
    "editable": false,
    "nbgrader": {
     "cell_type": "markdown",
     "checksum": "9b3c4f17212e7e263daea7e094e71665",
     "grade": false,
     "grade_id": "cell-50f12973e0a201ec",
     "locked": true,
     "schema_version": 3,
     "solution": false,
     "task": false
    }
   },
   "source": [
    "## 1.3 Writing the full Expectation-Maximization Iteration"
   ]
  },
  {
   "cell_type": "code",
   "execution_count": 22,
   "metadata": {
    "deletable": false,
    "editable": false,
    "nbgrader": {
     "cell_type": "code",
     "checksum": "22b7dedf1e48f17b338ef6d132358a77",
     "grade": false,
     "grade_id": "cell-783279e45d59c432",
     "locked": true,
     "schema_version": 3,
     "solution": false,
     "task": false
    }
   },
   "outputs": [],
   "source": [
    "def GMM(X, K, initialization_method='kmeans', iterations=100, seed=12345):\n",
    "    N, d = X.shape\n",
    "    pi_init = np.ones((K,1))/float(K)\n",
    "    \n",
    "    np_random = np.random.RandomState(seed=seed)\n",
    "    if initialization_method == 'random_pixels':\n",
    "        mu_init = X[np_random.choice(N, K), :] # mu.shape = (K, d)\n",
    "    elif initialization_method == 'kmeans':\n",
    "        kmeans = KMeans(n_clusters=K, random_state=np_random).fit(X)\n",
    "        mu_init = kmeans.cluster_centers_  # mu.shape = (K, d)\n",
    "\n",
    "    log_pi = np.log(pi_init) #log_pi.shape = (K,1)\n",
    "    mu = mu_init\n",
    "\n",
    "    for iteration in range(iterations):\n",
    "        print('.', end='')\n",
    "        #The E-Step\n",
    "        H = find_H(X, mu)\n",
    "        logW = find_logW(H, log_pi)\n",
    "\n",
    "        #The M-Step\n",
    "        log_pi = update_logpi(logW)\n",
    "        mu = update_mu(X, logW)\n",
    "    print('', end=' ')\n",
    "    \n",
    "    return mu, H, log_pi"
   ]
  },
  {
   "cell_type": "code",
   "execution_count": 23,
   "metadata": {
    "deletable": false,
    "editable": false,
    "nbgrader": {
     "cell_type": "code",
     "checksum": "492c3dcac460c47bdfc7a7b6cfed14fe",
     "grade": false,
     "grade_id": "cell-47707c634c5fcfee",
     "locked": true,
     "schema_version": 3,
     "solution": false,
     "task": false
    }
   },
   "outputs": [],
   "source": [
    "def segment(raw_image, K, initialization_method ='random_pixels', seed=12345):\n",
    "    mu, H, log_pi = GMM(X=raw_image.reshape(-1, 3), K=K, \n",
    "                        initialization_method=initialization_method, \n",
    "                        iterations=10, seed=seed)\n",
    "    reconst_image = mu[H.argmax(axis=1), :].reshape(*raw_image.shape)\n",
    "\n",
    "    fig, axes = plt.subplots(1,2, figsize=(8,4), dpi=144)\n",
    "\n",
    "    ax = axes[0]\n",
    "    ax.imshow(raw_image)\n",
    "    ax.set_xticks([])\n",
    "    ax.set_yticks([])\n",
    "    ax.set_title('Original Image')\n",
    "\n",
    "    ax = axes[1]\n",
    "    ax.imshow(reconst_image.astype(np.uint8))\n",
    "    ax.set_xticks([])\n",
    "    ax.set_yticks([])\n",
    "    ax.set_title(f'Segmented Image (K={K})')\n",
    "\n",
    "    fig.tight_layout()"
   ]
  },
  {
   "cell_type": "markdown",
   "metadata": {
    "deletable": false,
    "editable": false,
    "nbgrader": {
     "cell_type": "markdown",
     "checksum": "5e5b5fa69ae14bb55ca6376dd6364573",
     "grade": false,
     "grade_id": "cell-414bbce230821172",
     "locked": true,
     "schema_version": 3,
     "solution": false,
     "task": false
    }
   },
   "source": [
    "# 2. Image Segmentation"
   ]
  },
  {
   "cell_type": "markdown",
   "metadata": {
    "deletable": false,
    "editable": false,
    "nbgrader": {
     "cell_type": "markdown",
     "checksum": "95b578ebad80ce0cfeefad26992103fb",
     "grade": false,
     "grade_id": "cell-63f32cc9358b0150",
     "locked": true,
     "schema_version": 3,
     "solution": false,
     "task": false
    }
   },
   "source": [
    "## 2.1 The Sunset Image"
   ]
  },
  {
   "cell_type": "code",
   "execution_count": 24,
   "metadata": {},
   "outputs": [
    {
     "name": "stdout",
     "output_type": "stream",
     "text": [
      ".."
     ]
    },
    {
     "ename": "AssertionError",
     "evalue": "",
     "output_type": "error",
     "traceback": [
      "\u001b[0;31m---------------------------------------------------------------------------\u001b[0m",
      "\u001b[0;31mAssertionError\u001b[0m                            Traceback (most recent call last)",
      "\u001b[0;32m<ipython-input-24-19218f43c832>\u001b[0m in \u001b[0;36m<module>\u001b[0;34m\u001b[0m\n\u001b[1;32m      1\u001b[0m \u001b[0;32mif\u001b[0m \u001b[0mperform_computation\u001b[0m\u001b[0;34m:\u001b[0m\u001b[0;34m\u001b[0m\u001b[0;34m\u001b[0m\u001b[0m\n\u001b[1;32m      2\u001b[0m     \u001b[0mraw_image\u001b[0m \u001b[0;34m=\u001b[0m \u001b[0mio\u001b[0m\u001b[0;34m.\u001b[0m\u001b[0mimread\u001b[0m\u001b[0;34m(\u001b[0m\u001b[0;34m'../EMSegmentation-lib/pics/smallsunset.jpg'\u001b[0m\u001b[0;34m)\u001b[0m\u001b[0;34m\u001b[0m\u001b[0;34m\u001b[0m\u001b[0m\n\u001b[0;32m----> 3\u001b[0;31m     \u001b[0msegment\u001b[0m\u001b[0;34m(\u001b[0m\u001b[0mraw_image\u001b[0m\u001b[0;34m,\u001b[0m \u001b[0;36m10\u001b[0m\u001b[0;34m)\u001b[0m\u001b[0;34m\u001b[0m\u001b[0;34m\u001b[0m\u001b[0m\n\u001b[0m\u001b[1;32m      4\u001b[0m     \u001b[0msegment\u001b[0m\u001b[0;34m(\u001b[0m\u001b[0mraw_image\u001b[0m\u001b[0;34m,\u001b[0m \u001b[0;36m20\u001b[0m\u001b[0;34m)\u001b[0m\u001b[0;34m\u001b[0m\u001b[0;34m\u001b[0m\u001b[0m\n\u001b[1;32m      5\u001b[0m     \u001b[0msegment\u001b[0m\u001b[0;34m(\u001b[0m\u001b[0mraw_image\u001b[0m\u001b[0;34m,\u001b[0m \u001b[0;36m50\u001b[0m\u001b[0;34m)\u001b[0m\u001b[0;34m\u001b[0m\u001b[0;34m\u001b[0m\u001b[0m\n",
      "\u001b[0;32m<ipython-input-23-67c3eee7ccc6>\u001b[0m in \u001b[0;36msegment\u001b[0;34m(raw_image, K, initialization_method, seed)\u001b[0m\n\u001b[1;32m      1\u001b[0m \u001b[0;32mdef\u001b[0m \u001b[0msegment\u001b[0m\u001b[0;34m(\u001b[0m\u001b[0mraw_image\u001b[0m\u001b[0;34m,\u001b[0m \u001b[0mK\u001b[0m\u001b[0;34m,\u001b[0m \u001b[0minitialization_method\u001b[0m \u001b[0;34m=\u001b[0m\u001b[0;34m'random_pixels'\u001b[0m\u001b[0;34m,\u001b[0m \u001b[0mseed\u001b[0m\u001b[0;34m=\u001b[0m\u001b[0;36m12345\u001b[0m\u001b[0;34m)\u001b[0m\u001b[0;34m:\u001b[0m\u001b[0;34m\u001b[0m\u001b[0;34m\u001b[0m\u001b[0m\n\u001b[0;32m----> 2\u001b[0;31m     mu, H, log_pi = GMM(X=raw_image.reshape(-1, 3), K=K, \n\u001b[0m\u001b[1;32m      3\u001b[0m                         \u001b[0minitialization_method\u001b[0m\u001b[0;34m=\u001b[0m\u001b[0minitialization_method\u001b[0m\u001b[0;34m,\u001b[0m\u001b[0;34m\u001b[0m\u001b[0;34m\u001b[0m\u001b[0m\n\u001b[1;32m      4\u001b[0m                         iterations=10, seed=seed)\n\u001b[1;32m      5\u001b[0m     \u001b[0mreconst_image\u001b[0m \u001b[0;34m=\u001b[0m \u001b[0mmu\u001b[0m\u001b[0;34m[\u001b[0m\u001b[0mH\u001b[0m\u001b[0;34m.\u001b[0m\u001b[0margmax\u001b[0m\u001b[0;34m(\u001b[0m\u001b[0maxis\u001b[0m\u001b[0;34m=\u001b[0m\u001b[0;36m1\u001b[0m\u001b[0;34m)\u001b[0m\u001b[0;34m,\u001b[0m \u001b[0;34m:\u001b[0m\u001b[0;34m]\u001b[0m\u001b[0;34m.\u001b[0m\u001b[0mreshape\u001b[0m\u001b[0;34m(\u001b[0m\u001b[0;34m*\u001b[0m\u001b[0mraw_image\u001b[0m\u001b[0;34m.\u001b[0m\u001b[0mshape\u001b[0m\u001b[0;34m)\u001b[0m\u001b[0;34m\u001b[0m\u001b[0;34m\u001b[0m\u001b[0m\n",
      "\u001b[0;32m<ipython-input-22-676ae43bd137>\u001b[0m in \u001b[0;36mGMM\u001b[0;34m(X, K, initialization_method, iterations, seed)\u001b[0m\n\u001b[1;32m     21\u001b[0m         \u001b[0;31m#The M-Step\u001b[0m\u001b[0;34m\u001b[0m\u001b[0;34m\u001b[0m\u001b[0;34m\u001b[0m\u001b[0m\n\u001b[1;32m     22\u001b[0m         \u001b[0mlog_pi\u001b[0m \u001b[0;34m=\u001b[0m \u001b[0mupdate_logpi\u001b[0m\u001b[0;34m(\u001b[0m\u001b[0mlogW\u001b[0m\u001b[0;34m)\u001b[0m\u001b[0;34m\u001b[0m\u001b[0;34m\u001b[0m\u001b[0m\n\u001b[0;32m---> 23\u001b[0;31m         \u001b[0mmu\u001b[0m \u001b[0;34m=\u001b[0m \u001b[0mupdate_mu\u001b[0m\u001b[0;34m(\u001b[0m\u001b[0mX\u001b[0m\u001b[0;34m,\u001b[0m \u001b[0mlogW\u001b[0m\u001b[0;34m)\u001b[0m\u001b[0;34m\u001b[0m\u001b[0;34m\u001b[0m\u001b[0m\n\u001b[0m\u001b[1;32m     24\u001b[0m     \u001b[0mprint\u001b[0m\u001b[0;34m(\u001b[0m\u001b[0;34m''\u001b[0m\u001b[0;34m,\u001b[0m \u001b[0mend\u001b[0m\u001b[0;34m=\u001b[0m\u001b[0;34m' '\u001b[0m\u001b[0;34m)\u001b[0m\u001b[0;34m\u001b[0m\u001b[0;34m\u001b[0m\u001b[0m\n\u001b[1;32m     25\u001b[0m \u001b[0;34m\u001b[0m\u001b[0m\n",
      "\u001b[0;32m<ipython-input-18-182603eb4508>\u001b[0m in \u001b[0;36mupdate_mu\u001b[0;34m(X, logW)\u001b[0m\n\u001b[1;32m     24\u001b[0m \u001b[0;34m\u001b[0m\u001b[0m\n\u001b[1;32m     25\u001b[0m     \u001b[0;32massert\u001b[0m \u001b[0mmu\u001b[0m\u001b[0;34m.\u001b[0m\u001b[0mshape\u001b[0m \u001b[0;34m==\u001b[0m \u001b[0;34m(\u001b[0m\u001b[0mK\u001b[0m\u001b[0;34m,\u001b[0m\u001b[0md\u001b[0m\u001b[0;34m)\u001b[0m\u001b[0;34m\u001b[0m\u001b[0;34m\u001b[0m\u001b[0m\n\u001b[0;32m---> 26\u001b[0;31m     \u001b[0;32massert\u001b[0m \u001b[0;32mnot\u001b[0m \u001b[0mnp\u001b[0m\u001b[0;34m.\u001b[0m\u001b[0misnan\u001b[0m\u001b[0;34m(\u001b[0m\u001b[0mmu\u001b[0m\u001b[0;34m)\u001b[0m\u001b[0;34m.\u001b[0m\u001b[0many\u001b[0m\u001b[0;34m(\u001b[0m\u001b[0;34m)\u001b[0m\u001b[0;34m\u001b[0m\u001b[0;34m\u001b[0m\u001b[0m\n\u001b[0m\u001b[1;32m     27\u001b[0m     \u001b[0;32massert\u001b[0m \u001b[0;32mnot\u001b[0m \u001b[0mnp\u001b[0m\u001b[0;34m.\u001b[0m\u001b[0misinf\u001b[0m\u001b[0;34m(\u001b[0m\u001b[0mmu\u001b[0m\u001b[0;34m)\u001b[0m\u001b[0;34m.\u001b[0m\u001b[0many\u001b[0m\u001b[0;34m(\u001b[0m\u001b[0;34m)\u001b[0m\u001b[0;34m\u001b[0m\u001b[0;34m\u001b[0m\u001b[0m\n\u001b[1;32m     28\u001b[0m     \u001b[0;32mreturn\u001b[0m \u001b[0mmu\u001b[0m\u001b[0;34m\u001b[0m\u001b[0;34m\u001b[0m\u001b[0m\n",
      "\u001b[0;31mAssertionError\u001b[0m: "
     ]
    }
   ],
   "source": [
    "if perform_computation:\n",
    "    raw_image = io.imread('../EMSegmentation-lib/pics/smallsunset.jpg')\n",
    "    segment(raw_image, 10)\n",
    "    segment(raw_image, 20)\n",
    "    segment(raw_image, 50)"
   ]
  },
  {
   "cell_type": "markdown",
   "metadata": {
    "deletable": false,
    "editable": false,
    "nbgrader": {
     "cell_type": "markdown",
     "checksum": "8391e42f5f04aad74c5559780caca52a",
     "grade": false,
     "grade_id": "cell-725482236a7dd921",
     "locked": true,
     "schema_version": 3,
     "solution": false,
     "task": false
    }
   },
   "source": [
    "## 2.2 The Flower Image"
   ]
  },
  {
   "cell_type": "code",
   "execution_count": 25,
   "metadata": {},
   "outputs": [
    {
     "name": "stdout",
     "output_type": "stream",
     "text": [
      "..."
     ]
    },
    {
     "ename": "AssertionError",
     "evalue": "",
     "output_type": "error",
     "traceback": [
      "\u001b[0;31m---------------------------------------------------------------------------\u001b[0m",
      "\u001b[0;31mAssertionError\u001b[0m                            Traceback (most recent call last)",
      "\u001b[0;32m<ipython-input-25-4ee84febc22c>\u001b[0m in \u001b[0;36m<module>\u001b[0;34m\u001b[0m\n\u001b[1;32m      1\u001b[0m \u001b[0;32mif\u001b[0m \u001b[0mperform_computation\u001b[0m\u001b[0;34m:\u001b[0m\u001b[0;34m\u001b[0m\u001b[0;34m\u001b[0m\u001b[0m\n\u001b[1;32m      2\u001b[0m     \u001b[0mraw_image\u001b[0m \u001b[0;34m=\u001b[0m \u001b[0mio\u001b[0m\u001b[0;34m.\u001b[0m\u001b[0mimread\u001b[0m\u001b[0;34m(\u001b[0m\u001b[0;34m'../EMSegmentation-lib/pics/smallstrelitzia.jpg'\u001b[0m\u001b[0;34m)\u001b[0m\u001b[0;34m\u001b[0m\u001b[0;34m\u001b[0m\u001b[0m\n\u001b[0;32m----> 3\u001b[0;31m     \u001b[0msegment\u001b[0m\u001b[0;34m(\u001b[0m\u001b[0mraw_image\u001b[0m\u001b[0;34m,\u001b[0m \u001b[0;36m10\u001b[0m\u001b[0;34m)\u001b[0m\u001b[0;34m\u001b[0m\u001b[0;34m\u001b[0m\u001b[0m\n\u001b[0m\u001b[1;32m      4\u001b[0m     \u001b[0msegment\u001b[0m\u001b[0;34m(\u001b[0m\u001b[0mraw_image\u001b[0m\u001b[0;34m,\u001b[0m \u001b[0;36m20\u001b[0m\u001b[0;34m)\u001b[0m\u001b[0;34m\u001b[0m\u001b[0;34m\u001b[0m\u001b[0m\n\u001b[1;32m      5\u001b[0m     \u001b[0msegment\u001b[0m\u001b[0;34m(\u001b[0m\u001b[0mraw_image\u001b[0m\u001b[0;34m,\u001b[0m \u001b[0;36m50\u001b[0m\u001b[0;34m)\u001b[0m\u001b[0;34m\u001b[0m\u001b[0;34m\u001b[0m\u001b[0m\n",
      "\u001b[0;32m<ipython-input-23-67c3eee7ccc6>\u001b[0m in \u001b[0;36msegment\u001b[0;34m(raw_image, K, initialization_method, seed)\u001b[0m\n\u001b[1;32m      1\u001b[0m \u001b[0;32mdef\u001b[0m \u001b[0msegment\u001b[0m\u001b[0;34m(\u001b[0m\u001b[0mraw_image\u001b[0m\u001b[0;34m,\u001b[0m \u001b[0mK\u001b[0m\u001b[0;34m,\u001b[0m \u001b[0minitialization_method\u001b[0m \u001b[0;34m=\u001b[0m\u001b[0;34m'random_pixels'\u001b[0m\u001b[0;34m,\u001b[0m \u001b[0mseed\u001b[0m\u001b[0;34m=\u001b[0m\u001b[0;36m12345\u001b[0m\u001b[0;34m)\u001b[0m\u001b[0;34m:\u001b[0m\u001b[0;34m\u001b[0m\u001b[0;34m\u001b[0m\u001b[0m\n\u001b[0;32m----> 2\u001b[0;31m     mu, H, log_pi = GMM(X=raw_image.reshape(-1, 3), K=K, \n\u001b[0m\u001b[1;32m      3\u001b[0m                         \u001b[0minitialization_method\u001b[0m\u001b[0;34m=\u001b[0m\u001b[0minitialization_method\u001b[0m\u001b[0;34m,\u001b[0m\u001b[0;34m\u001b[0m\u001b[0;34m\u001b[0m\u001b[0m\n\u001b[1;32m      4\u001b[0m                         iterations=10, seed=seed)\n\u001b[1;32m      5\u001b[0m     \u001b[0mreconst_image\u001b[0m \u001b[0;34m=\u001b[0m \u001b[0mmu\u001b[0m\u001b[0;34m[\u001b[0m\u001b[0mH\u001b[0m\u001b[0;34m.\u001b[0m\u001b[0margmax\u001b[0m\u001b[0;34m(\u001b[0m\u001b[0maxis\u001b[0m\u001b[0;34m=\u001b[0m\u001b[0;36m1\u001b[0m\u001b[0;34m)\u001b[0m\u001b[0;34m,\u001b[0m \u001b[0;34m:\u001b[0m\u001b[0;34m]\u001b[0m\u001b[0;34m.\u001b[0m\u001b[0mreshape\u001b[0m\u001b[0;34m(\u001b[0m\u001b[0;34m*\u001b[0m\u001b[0mraw_image\u001b[0m\u001b[0;34m.\u001b[0m\u001b[0mshape\u001b[0m\u001b[0;34m)\u001b[0m\u001b[0;34m\u001b[0m\u001b[0;34m\u001b[0m\u001b[0m\n",
      "\u001b[0;32m<ipython-input-22-676ae43bd137>\u001b[0m in \u001b[0;36mGMM\u001b[0;34m(X, K, initialization_method, iterations, seed)\u001b[0m\n\u001b[1;32m     21\u001b[0m         \u001b[0;31m#The M-Step\u001b[0m\u001b[0;34m\u001b[0m\u001b[0;34m\u001b[0m\u001b[0;34m\u001b[0m\u001b[0m\n\u001b[1;32m     22\u001b[0m         \u001b[0mlog_pi\u001b[0m \u001b[0;34m=\u001b[0m \u001b[0mupdate_logpi\u001b[0m\u001b[0;34m(\u001b[0m\u001b[0mlogW\u001b[0m\u001b[0;34m)\u001b[0m\u001b[0;34m\u001b[0m\u001b[0;34m\u001b[0m\u001b[0m\n\u001b[0;32m---> 23\u001b[0;31m         \u001b[0mmu\u001b[0m \u001b[0;34m=\u001b[0m \u001b[0mupdate_mu\u001b[0m\u001b[0;34m(\u001b[0m\u001b[0mX\u001b[0m\u001b[0;34m,\u001b[0m \u001b[0mlogW\u001b[0m\u001b[0;34m)\u001b[0m\u001b[0;34m\u001b[0m\u001b[0;34m\u001b[0m\u001b[0m\n\u001b[0m\u001b[1;32m     24\u001b[0m     \u001b[0mprint\u001b[0m\u001b[0;34m(\u001b[0m\u001b[0;34m''\u001b[0m\u001b[0;34m,\u001b[0m \u001b[0mend\u001b[0m\u001b[0;34m=\u001b[0m\u001b[0;34m' '\u001b[0m\u001b[0;34m)\u001b[0m\u001b[0;34m\u001b[0m\u001b[0;34m\u001b[0m\u001b[0m\n\u001b[1;32m     25\u001b[0m \u001b[0;34m\u001b[0m\u001b[0m\n",
      "\u001b[0;32m<ipython-input-18-182603eb4508>\u001b[0m in \u001b[0;36mupdate_mu\u001b[0;34m(X, logW)\u001b[0m\n\u001b[1;32m     24\u001b[0m \u001b[0;34m\u001b[0m\u001b[0m\n\u001b[1;32m     25\u001b[0m     \u001b[0;32massert\u001b[0m \u001b[0mmu\u001b[0m\u001b[0;34m.\u001b[0m\u001b[0mshape\u001b[0m \u001b[0;34m==\u001b[0m \u001b[0;34m(\u001b[0m\u001b[0mK\u001b[0m\u001b[0;34m,\u001b[0m\u001b[0md\u001b[0m\u001b[0;34m)\u001b[0m\u001b[0;34m\u001b[0m\u001b[0;34m\u001b[0m\u001b[0m\n\u001b[0;32m---> 26\u001b[0;31m     \u001b[0;32massert\u001b[0m \u001b[0;32mnot\u001b[0m \u001b[0mnp\u001b[0m\u001b[0;34m.\u001b[0m\u001b[0misnan\u001b[0m\u001b[0;34m(\u001b[0m\u001b[0mmu\u001b[0m\u001b[0;34m)\u001b[0m\u001b[0;34m.\u001b[0m\u001b[0many\u001b[0m\u001b[0;34m(\u001b[0m\u001b[0;34m)\u001b[0m\u001b[0;34m\u001b[0m\u001b[0;34m\u001b[0m\u001b[0m\n\u001b[0m\u001b[1;32m     27\u001b[0m     \u001b[0;32massert\u001b[0m \u001b[0;32mnot\u001b[0m \u001b[0mnp\u001b[0m\u001b[0;34m.\u001b[0m\u001b[0misinf\u001b[0m\u001b[0;34m(\u001b[0m\u001b[0mmu\u001b[0m\u001b[0;34m)\u001b[0m\u001b[0;34m.\u001b[0m\u001b[0many\u001b[0m\u001b[0;34m(\u001b[0m\u001b[0;34m)\u001b[0m\u001b[0;34m\u001b[0m\u001b[0;34m\u001b[0m\u001b[0m\n\u001b[1;32m     28\u001b[0m     \u001b[0;32mreturn\u001b[0m \u001b[0mmu\u001b[0m\u001b[0;34m\u001b[0m\u001b[0;34m\u001b[0m\u001b[0m\n",
      "\u001b[0;31mAssertionError\u001b[0m: "
     ]
    }
   ],
   "source": [
    "if perform_computation:\n",
    "    raw_image = io.imread('../EMSegmentation-lib/pics/smallstrelitzia.jpg')\n",
    "    segment(raw_image, 10)\n",
    "    segment(raw_image, 20)\n",
    "    segment(raw_image, 50)"
   ]
  },
  {
   "cell_type": "markdown",
   "metadata": {
    "deletable": false,
    "editable": false,
    "nbgrader": {
     "cell_type": "markdown",
     "checksum": "8992128aa6b2ebeb651db43f95436269",
     "grade": false,
     "grade_id": "cell-4a7b26a94e7e8c6f",
     "locked": true,
     "schema_version": 3,
     "solution": false,
     "task": false
    }
   },
   "source": [
    "## 2.3 The Fish Image"
   ]
  },
  {
   "cell_type": "code",
   "execution_count": 26,
   "metadata": {},
   "outputs": [
    {
     "name": "stdout",
     "output_type": "stream",
     "text": [
      "..."
     ]
    },
    {
     "ename": "AssertionError",
     "evalue": "",
     "output_type": "error",
     "traceback": [
      "\u001b[0;31m---------------------------------------------------------------------------\u001b[0m",
      "\u001b[0;31mAssertionError\u001b[0m                            Traceback (most recent call last)",
      "\u001b[0;32m<ipython-input-26-66087676d6bf>\u001b[0m in \u001b[0;36m<module>\u001b[0;34m\u001b[0m\n\u001b[1;32m      1\u001b[0m \u001b[0;32mif\u001b[0m \u001b[0mperform_computation\u001b[0m\u001b[0;34m:\u001b[0m\u001b[0;34m\u001b[0m\u001b[0;34m\u001b[0m\u001b[0m\n\u001b[1;32m      2\u001b[0m     \u001b[0mraw_image\u001b[0m \u001b[0;34m=\u001b[0m \u001b[0mio\u001b[0m\u001b[0;34m.\u001b[0m\u001b[0mimread\u001b[0m\u001b[0;34m(\u001b[0m\u001b[0;34m'../EMSegmentation-lib/pics/RobertMixed03.jpg'\u001b[0m\u001b[0;34m)\u001b[0m\u001b[0;34m\u001b[0m\u001b[0;34m\u001b[0m\u001b[0m\n\u001b[0;32m----> 3\u001b[0;31m     \u001b[0msegment\u001b[0m\u001b[0;34m(\u001b[0m\u001b[0mraw_image\u001b[0m\u001b[0;34m,\u001b[0m \u001b[0;36m10\u001b[0m\u001b[0;34m)\u001b[0m\u001b[0;34m\u001b[0m\u001b[0;34m\u001b[0m\u001b[0m\n\u001b[0m\u001b[1;32m      4\u001b[0m     \u001b[0msegment\u001b[0m\u001b[0;34m(\u001b[0m\u001b[0mraw_image\u001b[0m\u001b[0;34m,\u001b[0m \u001b[0;36m20\u001b[0m\u001b[0;34m)\u001b[0m\u001b[0;34m\u001b[0m\u001b[0;34m\u001b[0m\u001b[0m\n\u001b[1;32m      5\u001b[0m     \u001b[0msegment\u001b[0m\u001b[0;34m(\u001b[0m\u001b[0mraw_image\u001b[0m\u001b[0;34m,\u001b[0m \u001b[0;36m50\u001b[0m\u001b[0;34m)\u001b[0m\u001b[0;34m\u001b[0m\u001b[0;34m\u001b[0m\u001b[0m\n",
      "\u001b[0;32m<ipython-input-23-67c3eee7ccc6>\u001b[0m in \u001b[0;36msegment\u001b[0;34m(raw_image, K, initialization_method, seed)\u001b[0m\n\u001b[1;32m      1\u001b[0m \u001b[0;32mdef\u001b[0m \u001b[0msegment\u001b[0m\u001b[0;34m(\u001b[0m\u001b[0mraw_image\u001b[0m\u001b[0;34m,\u001b[0m \u001b[0mK\u001b[0m\u001b[0;34m,\u001b[0m \u001b[0minitialization_method\u001b[0m \u001b[0;34m=\u001b[0m\u001b[0;34m'random_pixels'\u001b[0m\u001b[0;34m,\u001b[0m \u001b[0mseed\u001b[0m\u001b[0;34m=\u001b[0m\u001b[0;36m12345\u001b[0m\u001b[0;34m)\u001b[0m\u001b[0;34m:\u001b[0m\u001b[0;34m\u001b[0m\u001b[0;34m\u001b[0m\u001b[0m\n\u001b[0;32m----> 2\u001b[0;31m     mu, H, log_pi = GMM(X=raw_image.reshape(-1, 3), K=K, \n\u001b[0m\u001b[1;32m      3\u001b[0m                         \u001b[0minitialization_method\u001b[0m\u001b[0;34m=\u001b[0m\u001b[0minitialization_method\u001b[0m\u001b[0;34m,\u001b[0m\u001b[0;34m\u001b[0m\u001b[0;34m\u001b[0m\u001b[0m\n\u001b[1;32m      4\u001b[0m                         iterations=10, seed=seed)\n\u001b[1;32m      5\u001b[0m     \u001b[0mreconst_image\u001b[0m \u001b[0;34m=\u001b[0m \u001b[0mmu\u001b[0m\u001b[0;34m[\u001b[0m\u001b[0mH\u001b[0m\u001b[0;34m.\u001b[0m\u001b[0margmax\u001b[0m\u001b[0;34m(\u001b[0m\u001b[0maxis\u001b[0m\u001b[0;34m=\u001b[0m\u001b[0;36m1\u001b[0m\u001b[0;34m)\u001b[0m\u001b[0;34m,\u001b[0m \u001b[0;34m:\u001b[0m\u001b[0;34m]\u001b[0m\u001b[0;34m.\u001b[0m\u001b[0mreshape\u001b[0m\u001b[0;34m(\u001b[0m\u001b[0;34m*\u001b[0m\u001b[0mraw_image\u001b[0m\u001b[0;34m.\u001b[0m\u001b[0mshape\u001b[0m\u001b[0;34m)\u001b[0m\u001b[0;34m\u001b[0m\u001b[0;34m\u001b[0m\u001b[0m\n",
      "\u001b[0;32m<ipython-input-22-676ae43bd137>\u001b[0m in \u001b[0;36mGMM\u001b[0;34m(X, K, initialization_method, iterations, seed)\u001b[0m\n\u001b[1;32m     21\u001b[0m         \u001b[0;31m#The M-Step\u001b[0m\u001b[0;34m\u001b[0m\u001b[0;34m\u001b[0m\u001b[0;34m\u001b[0m\u001b[0m\n\u001b[1;32m     22\u001b[0m         \u001b[0mlog_pi\u001b[0m \u001b[0;34m=\u001b[0m \u001b[0mupdate_logpi\u001b[0m\u001b[0;34m(\u001b[0m\u001b[0mlogW\u001b[0m\u001b[0;34m)\u001b[0m\u001b[0;34m\u001b[0m\u001b[0;34m\u001b[0m\u001b[0m\n\u001b[0;32m---> 23\u001b[0;31m         \u001b[0mmu\u001b[0m \u001b[0;34m=\u001b[0m \u001b[0mupdate_mu\u001b[0m\u001b[0;34m(\u001b[0m\u001b[0mX\u001b[0m\u001b[0;34m,\u001b[0m \u001b[0mlogW\u001b[0m\u001b[0;34m)\u001b[0m\u001b[0;34m\u001b[0m\u001b[0;34m\u001b[0m\u001b[0m\n\u001b[0m\u001b[1;32m     24\u001b[0m     \u001b[0mprint\u001b[0m\u001b[0;34m(\u001b[0m\u001b[0;34m''\u001b[0m\u001b[0;34m,\u001b[0m \u001b[0mend\u001b[0m\u001b[0;34m=\u001b[0m\u001b[0;34m' '\u001b[0m\u001b[0;34m)\u001b[0m\u001b[0;34m\u001b[0m\u001b[0;34m\u001b[0m\u001b[0m\n\u001b[1;32m     25\u001b[0m \u001b[0;34m\u001b[0m\u001b[0m\n",
      "\u001b[0;32m<ipython-input-18-182603eb4508>\u001b[0m in \u001b[0;36mupdate_mu\u001b[0;34m(X, logW)\u001b[0m\n\u001b[1;32m     24\u001b[0m \u001b[0;34m\u001b[0m\u001b[0m\n\u001b[1;32m     25\u001b[0m     \u001b[0;32massert\u001b[0m \u001b[0mmu\u001b[0m\u001b[0;34m.\u001b[0m\u001b[0mshape\u001b[0m \u001b[0;34m==\u001b[0m \u001b[0;34m(\u001b[0m\u001b[0mK\u001b[0m\u001b[0;34m,\u001b[0m\u001b[0md\u001b[0m\u001b[0;34m)\u001b[0m\u001b[0;34m\u001b[0m\u001b[0;34m\u001b[0m\u001b[0m\n\u001b[0;32m---> 26\u001b[0;31m     \u001b[0;32massert\u001b[0m \u001b[0;32mnot\u001b[0m \u001b[0mnp\u001b[0m\u001b[0;34m.\u001b[0m\u001b[0misnan\u001b[0m\u001b[0;34m(\u001b[0m\u001b[0mmu\u001b[0m\u001b[0;34m)\u001b[0m\u001b[0;34m.\u001b[0m\u001b[0many\u001b[0m\u001b[0;34m(\u001b[0m\u001b[0;34m)\u001b[0m\u001b[0;34m\u001b[0m\u001b[0;34m\u001b[0m\u001b[0m\n\u001b[0m\u001b[1;32m     27\u001b[0m     \u001b[0;32massert\u001b[0m \u001b[0;32mnot\u001b[0m \u001b[0mnp\u001b[0m\u001b[0;34m.\u001b[0m\u001b[0misinf\u001b[0m\u001b[0;34m(\u001b[0m\u001b[0mmu\u001b[0m\u001b[0;34m)\u001b[0m\u001b[0;34m.\u001b[0m\u001b[0many\u001b[0m\u001b[0;34m(\u001b[0m\u001b[0;34m)\u001b[0m\u001b[0;34m\u001b[0m\u001b[0;34m\u001b[0m\u001b[0m\n\u001b[1;32m     28\u001b[0m     \u001b[0;32mreturn\u001b[0m \u001b[0mmu\u001b[0m\u001b[0;34m\u001b[0m\u001b[0;34m\u001b[0m\u001b[0m\n",
      "\u001b[0;31mAssertionError\u001b[0m: "
     ]
    }
   ],
   "source": [
    "if perform_computation:\n",
    "    raw_image = io.imread('../EMSegmentation-lib/pics/RobertMixed03.jpg')\n",
    "    segment(raw_image, 10)\n",
    "    segment(raw_image, 20)\n",
    "    segment(raw_image, 50)"
   ]
  },
  {
   "cell_type": "code",
   "execution_count": null,
   "metadata": {},
   "outputs": [],
   "source": []
  },
  {
   "cell_type": "code",
   "execution_count": null,
   "metadata": {},
   "outputs": [],
   "source": []
  }
 ],
 "metadata": {
  "illinois_payload": {
   "b64z": "",
   "nb_path": "release/EMSegmentation/EMSegmentation.ipynb"
  },
  "kernelspec": {
   "display_name": "Python 3 (Threads: 2)",
   "language": "python",
   "name": "python3"
  },
  "language_info": {
   "codemirror_mode": {
    "name": "ipython",
    "version": 3
   },
   "file_extension": ".py",
   "mimetype": "text/x-python",
   "name": "python",
   "nbconvert_exporter": "python",
   "pygments_lexer": "ipython3",
   "version": "3.8.8"
  }
 },
 "nbformat": 4,
 "nbformat_minor": 4
}
